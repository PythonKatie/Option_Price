{
 "cells": [
  {
   "cell_type": "code",
   "execution_count": 4,
   "metadata": {},
   "outputs": [
    {
     "name": "stdin",
     "output_type": "stream",
     "text": [
      "Please enter Stock Price  150\n",
      "Please enter Exercise Price  100\n",
      "Please enter Interest Rate  .05\n",
      "Please enter Volatility  .30\n",
      "Please enter time to expiration in years  5\n"
     ]
    },
    {
     "name": "stdout",
     "output_type": "stream",
     "text": [
      "The Put Price is 6.09\n"
     ]
    }
   ],
   "source": [
    "##OPTION Price Calculator\n",
    "import numpy as np\n",
    "import scipy.stats as si\n",
    "\n",
    "s = 100\n",
    "k = 120\n",
    "r = .05\n",
    "t = 5\n",
    "vol = .30\n",
    "\n",
    "d1 = ((np.log(s/k)) + (r + (vol**2)/2)*t)/ (vol* np.sqrt(t))\n",
    "d2 = d1 - (vol* np.sqrt(t))\n",
    "\n",
    "call_price = (s * si.norm.cdf(d1)) - (k * np.exp(-r*t) * si.norm.cdf(d2))\n",
    "call_price = str(round(call_price, 3))\n",
    "print(\"The Call option price is \", call_price)\n",
    "\n",
    "put_price = (k * np.exp(-r*t) * si.norm.cdf(-d2)) - (s * si.norm.cdf(-d1))\n",
    "put_price = str(round(put_price, 3))\n",
    "print(\"The Put option price is \", put_price) \n",
    "\n",
    "## Option Price written as a function\n",
    "import numpy as np\n",
    "import scipy.stats as si\n",
    "def option_price(s, k, r, vol, t):\n",
    "    \n",
    "    d1 = ((np.log(s/k)) + (r + (vol**2)/2)*t)/ (vol* np.sqrt(t))\n",
    "    d2 = d1 - (vol* np.sqrt(t))\n",
    "\n",
    "    call_price = (s * si.norm.cdf(d1)) - (k * np.exp(-r*t) * si.norm.cdf(d2))\n",
    "    put_price = (k * np.exp(-r*t) * si.norm.cdf(-d2)) - (s * si.norm.cdf(-d1))\n",
    "        \n",
    "    if (k > s):\n",
    "        print(\"The Call Price is \", str(round(call_price, 3)))\n",
    "        return call_price\n",
    "        \n",
    "    else:\n",
    "        print(\"The Put Price is\", str(round(put_price, 3)))\n",
    "        return put_price\n",
    "       \n",
    "        \n",
    "def main():\n",
    "   s = float(input(\"Please enter Stock Price \"))\n",
    "   k = float(input(\"Please enter Exercise Price \"))\n",
    "   r = float(input(\"Please enter Interest Rate \"))\n",
    "   vol = float(input(\"Please enter Volatility \"))\n",
    "   t = float(input(\"Please enter time to expiration in years \"))\n",
    "    \n",
    "   option_price(s, k, r, vol, t)\n",
    "  \n",
    "main()"
   ]
  },
  {
   "cell_type": "code",
   "execution_count": null,
   "metadata": {},
   "outputs": [],
   "source": []
  }
 ],
 "metadata": {
  "kernelspec": {
   "display_name": "Python 3",
   "language": "python",
   "name": "python3"
  },
  "language_info": {
   "codemirror_mode": {
    "name": "ipython",
    "version": 3
   },
   "file_extension": ".py",
   "mimetype": "text/x-python",
   "name": "python",
   "nbconvert_exporter": "python",
   "pygments_lexer": "ipython3",
   "version": "3.7.3"
  }
 },
 "nbformat": 4,
 "nbformat_minor": 4
}
